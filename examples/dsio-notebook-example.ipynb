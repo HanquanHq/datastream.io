{
 "cells": [
  {
   "cell_type": "code",
   "execution_count": null,
   "metadata": {
    "scrolled": false,
    "is_executing": true
   },
   "outputs": [],
   "source": [
    "from dsio.main import restream_dataframe\n",
    "from dsio.anomaly_detectors import Percentile1D\n",
    "import pandas as pd\n",
    "dataframe = pd.read_csv('data/cardata_sample.csv', sep=',')\n",
    "detector = Percentile1D\n",
    "restream_dataframe(dataframe, detector, sensors=['engine_speed',\n",
    "                                                   'vehicle_speed', \n",
    "                                                   'accelerator_pedal_position', \n",
    "                                                   'torque_at_transmission'], cols=2, speed=50)"
   ]
  },
  {
   "cell_type": "code",
   "execution_count": 1,
   "outputs": [],
   "source": [],
   "metadata": {
    "collapsed": false,
    "ExecuteTime": {
     "end_time": "2023-10-01T17:04:29.896849Z",
     "start_time": "2023-10-01T17:04:29.896035Z"
    }
   }
  }
 ],
 "metadata": {
  "kernelspec": {
   "display_name": "Python 3",
   "language": "python",
   "name": "python3"
  },
  "language_info": {
   "codemirror_mode": {
    "name": "ipython",
    "version": 3
   },
   "file_extension": ".py",
   "mimetype": "text/x-python",
   "name": "python",
   "nbconvert_exporter": "python",
   "pygments_lexer": "ipython3",
   "version": "3.5.2"
  }
 },
 "nbformat": 4,
 "nbformat_minor": 2
}
